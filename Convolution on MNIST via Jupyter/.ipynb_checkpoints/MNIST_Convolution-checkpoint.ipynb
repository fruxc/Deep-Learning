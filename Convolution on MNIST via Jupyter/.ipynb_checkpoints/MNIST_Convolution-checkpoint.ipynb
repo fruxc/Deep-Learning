{
 "cells": [
  {
   "cell_type": "code",
   "execution_count": 1,
   "metadata": {},
   "outputs": [],
   "source": [
    "from keras.layers import Input, Dense\n",
    "from keras.models import Model\n",
    "from keras.datasets import mnist\n",
    "import numpy as np\n",
    "(x_train, _), (x_test, _) = mnist.load_data()"
   ]
  },
  {
   "cell_type": "code",
   "execution_count": 2,
   "metadata": {},
   "outputs": [
    {
     "data": {
      "image/png": "[encoded data removed]",
      "text/plain": [
       "<Figure size 1440x288 with 10 Axes>"
      ]
     },
     "metadata": {
      "needs_background": "light"
     },
     "output_type": "display_data"
    }
   ],
   "source": [
    "import matplotlib.pyplot as plt\n",
    "\n",
    "n = 10  # how many records we will display\n",
    "plt.figure(figsize=(20, 4))\n",
    "for i in range(n):\n",
    "    # display original\n",
    "    ax = plt.subplot(2, n, i + 1)\n",
    "    plt.imshow(x_test[i].reshape(28, 28))\n",
    "    plt.gray()\n",
    "    ax.get_xaxis().set_visible(False)\n",
    "    ax.get_yaxis().set_visible(False)\n",
    "\n",
    "plt.show()"
   ]
  },
  {
   "cell_type": "code",
   "execution_count": 4,
   "metadata": {},
   "outputs": [],
   "source": [
    "from keras.layers import Input, Dense, Conv2D, MaxPooling2D, UpSampling2D\n",
    "from keras.models import Model\n",
    "\n",
    "# The encoding process\n",
    "input_img = Input(shape=(28, 28, 1))  \n",
    "\n",
    "############\n",
    "# Encoding #\n",
    "############\n",
    "\n",
    "# Conv1 #\n",
    "x = Conv2D(filters = 16, kernel_size = (3, 3), activation='relu', padding='same')(input_img)\n",
    "x = MaxPooling2D(pool_size = (2, 2), padding='same')(x)\n",
    "\n",
    "# Conv2 #\n",
    "x = Conv2D(filters = 8, kernel_size = (3, 3), activation='relu', padding='same')(x)\n",
    "x = MaxPooling2D(pool_size = (2, 2), padding='same')(x) \n",
    "\n",
    "# Conv 3 #\n",
    "x = Conv2D(filters = 8, kernel_size = (3, 3), activation='relu', padding='same')(x)\n",
    "encoded = MaxPooling2D(pool_size = (2, 2), padding='same')(x)\n",
    "\n",
    "# Note:\n",
    "# padding is a hyper-arameter for either 'valid' or 'same'. \n",
    "# \"valid\" means \"no padding\". \n",
    "# \"same\" results in padding the input such that the output has the same length as the original input.\n"
   ]
  },
  {
   "cell_type": "code",
   "execution_count": 5,
   "metadata": {},
   "outputs": [],
   "source": [
    "\n",
    "############\n",
    "# Decoding #\n",
    "############\n",
    "\n",
    "# DeConv1\n",
    "x = Conv2D(8, (3, 3), activation='relu', padding='same')(encoded)\n",
    "x = UpSampling2D((2, 2))(x)\n",
    "\n",
    "# DeConv2\n",
    "x = Conv2D(8, (3, 3), activation='relu', padding='same')(x)\n",
    "x = UpSampling2D((2, 2))(x)\n",
    "\n",
    "# Deconv3\n",
    "x = Conv2D(16, (3, 3), activation='relu')(x)\n",
    "x = UpSampling2D((2, 2))(x)\n",
    "decoded = Conv2D(1, (3, 3), activation='sigmoid', padding='same')(x)"
   ]
  },
  {
   "cell_type": "code",
   "execution_count": 6,
   "metadata": {},
   "outputs": [],
   "source": [
    "\n",
    "# Declare the model\n",
    "autoencoder = Model(input_img, decoded)\n",
    "autoencoder.compile(optimizer='adadelta', loss='binary_crossentropy')"
   ]
  },
  {
   "cell_type": "code",
   "execution_count": 7,
   "metadata": {},
   "outputs": [
    {
     "name": "stdout",
     "output_type": "stream",
     "text": [
      "Epoch 1/100\n",
      "469/469 [==============================] - 109s 232ms/step - loss: -82.1810 - val_loss: -117.7596\n",
      "Epoch 2/100\n",
      "469/469 [==============================] - 107s 228ms/step - loss: -237.8045 - val_loss: -457.3777\n",
      "Epoch 3/100\n",
      "469/469 [==============================] - 101s 215ms/step - loss: -483.1445 - val_loss: -499.1447\n",
      "Epoch 4/100\n",
      "469/469 [==============================] - 102s 216ms/step - loss: -492.9468 - val_loss: -500.8041\n",
      "Epoch 5/100\n",
      "469/469 [==============================] - 104s 222ms/step - loss: -493.7423 - val_loss: -501.1035\n",
      "Epoch 6/100\n",
      "469/469 [==============================] - 112s 238ms/step - loss: -493.9813 - val_loss: -501.3209\n",
      "Epoch 7/100\n",
      "469/469 [==============================] - 109s 233ms/step - loss: -494.2114 - val_loss: -501.5594\n",
      "Epoch 8/100\n",
      "469/469 [==============================] - 103s 220ms/step - loss: -494.4626 - val_loss: -501.8203\n",
      "Epoch 9/100\n",
      "469/469 [==============================] - 105s 224ms/step - loss: -494.7364 - val_loss: -502.1045\n",
      "Epoch 10/100\n",
      "469/469 [==============================] - 107s 228ms/step - loss: -495.0329 - val_loss: -502.4061\n",
      "Epoch 11/100\n",
      "469/469 [==============================] - 103s 219ms/step - loss: -495.3396 - val_loss: -502.7079\n",
      "Epoch 12/100\n",
      "469/469 [==============================] - 106s 227ms/step - loss: -495.6328 - val_loss: -502.9890\n",
      "Epoch 13/100\n",
      "469/469 [==============================] - 97s 207ms/step - loss: -495.9046 - val_loss: -503.2462\n",
      "Epoch 14/100\n",
      "469/469 [==============================] - 112s 239ms/step - loss: -496.1502 - val_loss: -503.4759\n",
      "Epoch 15/100\n",
      "469/469 [==============================] - 111s 237ms/step - loss: -496.3692 - val_loss: -503.6830\n",
      "Epoch 16/100\n",
      "469/469 [==============================] - 108s 230ms/step - loss: -496.5677 - val_loss: -503.8738\n",
      "Epoch 17/100\n",
      "469/469 [==============================] - 120s 256ms/step - loss: -496.7527 - val_loss: -504.0547\n",
      "Epoch 18/100\n",
      "469/469 [==============================] - 124s 265ms/step - loss: -496.9295 - val_loss: -504.2298\n",
      "Epoch 19/100\n",
      "469/469 [==============================] - 110s 235ms/step - loss: -497.0998 - val_loss: -504.3963\n",
      "Epoch 20/100\n",
      "469/469 [==============================] - 124s 264ms/step - loss: -497.2536 - val_loss: -504.5420\n",
      "Epoch 21/100\n",
      "469/469 [==============================] - 125s 267ms/step - loss: -497.3878 - val_loss: -504.6703\n",
      "Epoch 22/100\n",
      "469/469 [==============================] - 118s 251ms/step - loss: -497.5099 - val_loss: -504.7897\n",
      "Epoch 23/100\n",
      "469/469 [==============================] - 115s 245ms/step - loss: -497.6240 - val_loss: -504.9009\n",
      "Epoch 24/100\n",
      "469/469 [==============================] - 111s 237ms/step - loss: -497.7332 - val_loss: -505.0078\n",
      "Epoch 25/100\n",
      "469/469 [==============================] - 98s 208ms/step - loss: -497.8372 - val_loss: -505.1090\n",
      "Epoch 26/100\n",
      "469/469 [==============================] - 106s 227ms/step - loss: -497.9384 - val_loss: -505.2119\n",
      "Epoch 27/100\n",
      "469/469 [==============================] - 110s 234ms/step - loss: -498.0415 - val_loss: -505.3141\n",
      "Epoch 28/100\n",
      "469/469 [==============================] - 106s 226ms/step - loss: -498.1431 - val_loss: -505.4156\n",
      "Epoch 29/100\n",
      "469/469 [==============================] - 106s 226ms/step - loss: -498.2451 - val_loss: -505.5175\n",
      "Epoch 30/100\n",
      "469/469 [==============================] - 107s 227ms/step - loss: -498.3457 - val_loss: -505.6183\n",
      "Epoch 31/100\n",
      "469/469 [==============================] - 116s 247ms/step - loss: -498.4459 - val_loss: -505.7209\n",
      "Epoch 32/100\n",
      "469/469 [==============================] - 109s 233ms/step - loss: -498.5475 - val_loss: -505.8235\n",
      "Epoch 33/100\n",
      "469/469 [==============================] - 63s 134ms/step - loss: -498.6469 - val_loss: -505.9232\n",
      "Epoch 34/100\n",
      "469/469 [==============================] - 59s 126ms/step - loss: -498.7409 - val_loss: -506.0170\n",
      "Epoch 35/100\n",
      "469/469 [==============================] - 57s 122ms/step - loss: -498.8306 - val_loss: -506.1071\n",
      "Epoch 36/100\n",
      "469/469 [==============================] - 58s 123ms/step - loss: -498.9161 - val_loss: -506.1935\n",
      "Epoch 37/100\n",
      "469/469 [==============================] - 58s 123ms/step - loss: -498.9963 - val_loss: -506.2734\n",
      "Epoch 38/100\n",
      "469/469 [==============================] - 60s 128ms/step - loss: -499.0719 - val_loss: -506.3489\n",
      "Epoch 39/100\n",
      "469/469 [==============================] - 60s 129ms/step - loss: -499.1436 - val_loss: -506.4196\n",
      "Epoch 40/100\n",
      "469/469 [==============================] - 60s 129ms/step - loss: -499.2103 - val_loss: -506.4846\n",
      "Epoch 41/100\n",
      "469/469 [==============================] - 60s 129ms/step - loss: -499.2723 - val_loss: -506.5475\n",
      "Epoch 42/100\n",
      "469/469 [==============================] - 60s 128ms/step - loss: -499.3325 - val_loss: -506.6069\n",
      "Epoch 43/100\n",
      "469/469 [==============================] - 60s 129ms/step - loss: -499.3885 - val_loss: -506.6618\n",
      "Epoch 44/100\n",
      "469/469 [==============================] - 61s 129ms/step - loss: -499.4414 - val_loss: -506.7141\n",
      "Epoch 45/100\n",
      "469/469 [==============================] - 60s 128ms/step - loss: -499.4921 - val_loss: -506.7650\n",
      "Epoch 46/100\n",
      "469/469 [==============================] - 61s 129ms/step - loss: -499.5402 - val_loss: -506.8132\n",
      "Epoch 47/100\n",
      "469/469 [==============================] - 60s 128ms/step - loss: -499.5866 - val_loss: -506.8595\n",
      "Epoch 48/100\n",
      "469/469 [==============================] - 60s 129ms/step - loss: -499.6308 - val_loss: -506.9041\n",
      "Epoch 49/100\n",
      "469/469 [==============================] - 61s 130ms/step - loss: -499.6730 - val_loss: -506.9461\n",
      "Epoch 50/100\n",
      "469/469 [==============================] - 61s 130ms/step - loss: -499.7132 - val_loss: -506.9858\n",
      "Epoch 51/100\n",
      "469/469 [==============================] - 61s 130ms/step - loss: -499.7516 - val_loss: -507.0239\n",
      "Epoch 52/100\n",
      "469/469 [==============================] - 60s 128ms/step - loss: -499.7887 - val_loss: -507.0612\n",
      "Epoch 53/100\n",
      "469/469 [==============================] - 78s 166ms/step - loss: -499.8248 - val_loss: -507.0979\n",
      "Epoch 54/100\n",
      "469/469 [==============================] - 67s 143ms/step - loss: -499.8597 - val_loss: -507.1330\n",
      "Epoch 55/100\n",
      "469/469 [==============================] - 65s 138ms/step - loss: -499.8939 - val_loss: -507.1674\n",
      "Epoch 56/100\n",
      "469/469 [==============================] - 64s 137ms/step - loss: -499.9272 - val_loss: -507.2008\n",
      "Epoch 57/100\n",
      "469/469 [==============================] - 65s 140ms/step - loss: -499.9594 - val_loss: -507.2330\n",
      "Epoch 58/100\n",
      "469/469 [==============================] - 65s 138ms/step - loss: -499.9907 - val_loss: -507.2646\n",
      "Epoch 59/100\n",
      "469/469 [==============================] - 70s 149ms/step - loss: -500.0214 - val_loss: -507.2948\n",
      "Epoch 60/100\n",
      "469/469 [==============================] - 66s 140ms/step - loss: -500.0504 - val_loss: -507.3245\n",
      "Epoch 61/100\n",
      "469/469 [==============================] - 62s 131ms/step - loss: -500.0798 - val_loss: -507.3536\n",
      "Epoch 62/100\n",
      "469/469 [==============================] - 64s 135ms/step - loss: -500.1081 - val_loss: -507.3825\n",
      "Epoch 63/100\n",
      "469/469 [==============================] - 62s 132ms/step - loss: -500.1361 - val_loss: -507.4102\n",
      "Epoch 64/100\n",
      "469/469 [==============================] - 64s 136ms/step - loss: -500.1632 - val_loss: -507.4372\n",
      "Epoch 65/100\n",
      "469/469 [==============================] - 64s 136ms/step - loss: -500.1892 - val_loss: -507.4638\n",
      "Epoch 66/100\n",
      "469/469 [==============================] - 68s 144ms/step - loss: -500.2150 - val_loss: -507.4896\n",
      "Epoch 67/100\n",
      "469/469 [==============================] - 64s 136ms/step - loss: -500.2397 - val_loss: -507.5141\n",
      "Epoch 68/100\n",
      "469/469 [==============================] - 63s 135ms/step - loss: -500.2643 - val_loss: -507.5388\n",
      "Epoch 69/100\n",
      "469/469 [==============================] - 64s 137ms/step - loss: -500.2881 - val_loss: -507.5625\n",
      "Epoch 70/100\n",
      "469/469 [==============================] - 66s 141ms/step - loss: -500.3116 - val_loss: -507.5862\n",
      "Epoch 71/100\n",
      "469/469 [==============================] - 63s 135ms/step - loss: -500.3343 - val_loss: -507.6088\n",
      "Epoch 72/100\n",
      "469/469 [==============================] - 63s 135ms/step - loss: -500.3556 - val_loss: -507.6307\n",
      "Epoch 73/100\n",
      "469/469 [==============================] - 64s 137ms/step - loss: -500.3774 - val_loss: -507.6519\n",
      "Epoch 74/100\n"
     ]
    },
    {
     "name": "stdout",
     "output_type": "stream",
     "text": [
      "469/469 [==============================] - 66s 141ms/step - loss: -500.3984 - val_loss: -507.6735\n",
      "Epoch 75/100\n",
      "469/469 [==============================] - 65s 138ms/step - loss: -500.4193 - val_loss: -507.6943\n",
      "Epoch 76/100\n",
      "469/469 [==============================] - 66s 142ms/step - loss: -500.4393 - val_loss: -507.7141\n",
      "Epoch 77/100\n",
      "469/469 [==============================] - 65s 139ms/step - loss: -500.4584 - val_loss: -507.7339\n",
      "Epoch 78/100\n",
      "469/469 [==============================] - 69s 147ms/step - loss: -500.4779 - val_loss: -507.7534\n",
      "Epoch 79/100\n",
      "469/469 [==============================] - 67s 142ms/step - loss: -500.4967 - val_loss: -507.7732\n",
      "Epoch 80/100\n",
      "469/469 [==============================] - 63s 135ms/step - loss: -500.5155 - val_loss: -507.7915\n",
      "Epoch 81/100\n",
      "469/469 [==============================] - 64s 137ms/step - loss: -500.5340 - val_loss: -507.8106\n",
      "Epoch 82/100\n",
      "469/469 [==============================] - 65s 138ms/step - loss: -500.5523 - val_loss: -507.8286\n",
      "Epoch 83/100\n",
      "469/469 [==============================] - 63s 134ms/step - loss: -500.5702 - val_loss: -507.8472\n",
      "Epoch 84/100\n",
      "469/469 [==============================] - 63s 135ms/step - loss: -500.5880 - val_loss: -507.8653\n",
      "Epoch 85/100\n",
      "469/469 [==============================] - 61s 130ms/step - loss: -500.6053 - val_loss: -507.8824\n",
      "Epoch 86/100\n",
      "469/469 [==============================] - 61s 129ms/step - loss: -500.6223 - val_loss: -507.8999\n",
      "Epoch 87/100\n",
      "469/469 [==============================] - 63s 135ms/step - loss: -500.6391 - val_loss: -507.9160\n",
      "Epoch 88/100\n",
      "469/469 [==============================] - 62s 131ms/step - loss: -500.6554 - val_loss: -507.9326\n",
      "Epoch 89/100\n",
      "469/469 [==============================] - 61s 129ms/step - loss: -500.6720 - val_loss: -507.9486\n",
      "Epoch 90/100\n",
      "469/469 [==============================] - 63s 135ms/step - loss: -500.6875 - val_loss: -507.9648\n",
      "Epoch 91/100\n",
      "469/469 [==============================] - 66s 141ms/step - loss: -500.7026 - val_loss: -507.9799\n",
      "Epoch 92/100\n",
      "469/469 [==============================] - 63s 135ms/step - loss: -500.7174 - val_loss: -507.9944\n",
      "Epoch 93/100\n",
      "469/469 [==============================] - 66s 142ms/step - loss: -500.7320 - val_loss: -508.0084\n",
      "Epoch 94/100\n",
      "469/469 [==============================] - 66s 141ms/step - loss: -500.7464 - val_loss: -508.0237\n",
      "Epoch 95/100\n",
      "469/469 [==============================] - 66s 141ms/step - loss: -500.7603 - val_loss: -508.0373\n",
      "Epoch 96/100\n",
      "469/469 [==============================] - 67s 143ms/step - loss: -500.7747 - val_loss: -508.0523\n",
      "Epoch 97/100\n",
      "469/469 [==============================] - 67s 143ms/step - loss: -500.7886 - val_loss: -508.0662\n",
      "Epoch 98/100\n",
      "469/469 [==============================] - 65s 139ms/step - loss: -500.8025 - val_loss: -508.0796\n",
      "Epoch 99/100\n",
      "469/469 [==============================] - 64s 137ms/step - loss: -500.8161 - val_loss: -508.0930\n",
      "Epoch 100/100\n",
      "469/469 [==============================] - 66s 141ms/step - loss: -500.8292 - val_loss: -508.1060\n"
     ]
    },
    {
     "data": {
      "text/plain": [
       "<tensorflow.python.keras.callbacks.History at 0x13a7948a1f0>"
      ]
     },
     "execution_count": 7,
     "metadata": {},
     "output_type": "execute_result"
    }
   ],
   "source": [
    "\n",
    "# Train the model\n",
    "autoencoder.fit(x_train, x_train,\n",
    "                epochs=100,\n",
    "                batch_size=128,\n",
    "                shuffle=True,\n",
    "                validation_data=(x_test, x_test)\n",
    "               )"
   ]
  },
  {
   "cell_type": "code",
   "execution_count": 12,
   "metadata": {},
   "outputs": [
    {
     "data": {
      "image/png": "[encoded data removed]",
      "text/plain": [
       "<Figure size 1440x288 with 20 Axes>"
      ]
     },
     "metadata": {
      "needs_background": "light"
     },
     "output_type": "display_data"
    }
   ],
   "source": [
    "decoded_imgs = autoencoder.predict(x_test)\n",
    "\n",
    "n = 10\n",
    "\n",
    "plt.figure(figsize=(20, 4))\n",
    "for i in range(n):\n",
    "    # display original\n",
    "    ax = plt.subplot(2, n, i + 1)\n",
    "    plt.imshow(x_test[i].reshape(28, 28))\n",
    "    plt.gray()\n",
    "    ax.get_xaxis().set_visible(False)\n",
    "    ax.get_yaxis().set_visible(False)\n",
    "\n",
    "    # display reconstruction\n",
    "    ax = plt.subplot(2, n, i+1+n)\n",
    "    plt.imshow(decoded_imgs[i].reshape(28, 28))\n",
    "    plt.gray()\n",
    "    ax.get_xaxis().set_visible(False)\n",
    "    ax.get_yaxis().set_visible(False)\n",
    "plt.show()"
   ]
  },
  {
   "cell_type": "code",
   "execution_count": 9,
   "metadata": {},
   "outputs": [],
   "source": [
    "noise_factor = 0.4\n",
    "x_train_noisy = x_train + noise_factor * np.random.normal(loc=0.0, scale=1.0, size=x_train.shape) \n",
    "x_test_noisy = x_test + noise_factor * np.random.normal(loc=0.0, scale=1.0, size=x_test.shape) \n",
    "\n",
    "x_train_noisy = np.clip(x_train_noisy, 0., 1.)\n",
    "x_test_noisy = np.clip(x_test_noisy, 0., 1.)"
   ]
  },
  {
   "cell_type": "code",
   "execution_count": 10,
   "metadata": {},
   "outputs": [
    {
     "data": {
      "image/png": "[encoded data removed]",
      "text/plain": [
       "<Figure size 1440x144 with 10 Axes>"
      ]
     },
     "metadata": {
      "needs_background": "light"
     },
     "output_type": "display_data"
    }
   ],
   "source": [
    "n = 10\n",
    "plt.figure(figsize=(20, 2))\n",
    "for i in range(n):\n",
    "    ax = plt.subplot(1, n, i+1)\n",
    "    plt.imshow(x_test_noisy[i].reshape(28, 28))\n",
    "    plt.gray()\n",
    "    ax.get_xaxis().set_visible(False)\n",
    "    ax.get_yaxis().set_visible(False)\n",
    "plt.show()"
   ]
  },
  {
   "cell_type": "code",
   "execution_count": 11,
   "metadata": {},
   "outputs": [
    {
     "name": "stdout",
     "output_type": "stream",
     "text": [
      "Epoch 1/100\n",
      "188/469 [===========>..................] - ETA: 36s - loss: -12.3644"
     ]
    },
    {
     "ename": "KeyboardInterrupt",
     "evalue": "",
     "output_type": "error",
     "traceback": [
      "\u001b[1;31m---------------------------------------------------------------------------\u001b[0m",
      "\u001b[1;31mKeyboardInterrupt\u001b[0m                         Traceback (most recent call last)",
      "\u001b[1;32m<ipython-input-11-60781d9ee8d0>\u001b[0m in \u001b[0;36m<module>\u001b[1;34m\u001b[0m\n\u001b[1;32m----> 1\u001b[1;33m autoencoder.fit(x_train_noisy, x_train,\n\u001b[0m\u001b[0;32m      2\u001b[0m                 \u001b[0mepochs\u001b[0m\u001b[1;33m=\u001b[0m\u001b[1;36m100\u001b[0m\u001b[1;33m,\u001b[0m\u001b[1;33m\u001b[0m\u001b[1;33m\u001b[0m\u001b[0m\n\u001b[0;32m      3\u001b[0m                 \u001b[0mbatch_size\u001b[0m\u001b[1;33m=\u001b[0m\u001b[1;36m128\u001b[0m\u001b[1;33m,\u001b[0m\u001b[1;33m\u001b[0m\u001b[1;33m\u001b[0m\u001b[0m\n\u001b[0;32m      4\u001b[0m                 \u001b[0mshuffle\u001b[0m\u001b[1;33m=\u001b[0m\u001b[1;32mTrue\u001b[0m\u001b[1;33m,\u001b[0m\u001b[1;33m\u001b[0m\u001b[1;33m\u001b[0m\u001b[0m\n\u001b[0;32m      5\u001b[0m                 \u001b[0mvalidation_data\u001b[0m\u001b[1;33m=\u001b[0m\u001b[1;33m(\u001b[0m\u001b[0mx_test_noisy\u001b[0m\u001b[1;33m,\u001b[0m \u001b[0mx_test\u001b[0m\u001b[1;33m)\u001b[0m\u001b[1;33m\u001b[0m\u001b[1;33m\u001b[0m\u001b[0m\n",
      "\u001b[1;32mc:\\python38\\lib\\site-packages\\tensorflow\\python\\keras\\engine\\training.py\u001b[0m in \u001b[0;36m_method_wrapper\u001b[1;34m(self, *args, **kwargs)\u001b[0m\n\u001b[0;32m    106\u001b[0m   \u001b[1;32mdef\u001b[0m \u001b[0m_method_wrapper\u001b[0m\u001b[1;33m(\u001b[0m\u001b[0mself\u001b[0m\u001b[1;33m,\u001b[0m \u001b[1;33m*\u001b[0m\u001b[0margs\u001b[0m\u001b[1;33m,\u001b[0m \u001b[1;33m**\u001b[0m\u001b[0mkwargs\u001b[0m\u001b[1;33m)\u001b[0m\u001b[1;33m:\u001b[0m\u001b[1;33m\u001b[0m\u001b[1;33m\u001b[0m\u001b[0m\n\u001b[0;32m    107\u001b[0m     \u001b[1;32mif\u001b[0m \u001b[1;32mnot\u001b[0m \u001b[0mself\u001b[0m\u001b[1;33m.\u001b[0m\u001b[0m_in_multi_worker_mode\u001b[0m\u001b[1;33m(\u001b[0m\u001b[1;33m)\u001b[0m\u001b[1;33m:\u001b[0m  \u001b[1;31m# pylint: disable=protected-access\u001b[0m\u001b[1;33m\u001b[0m\u001b[1;33m\u001b[0m\u001b[0m\n\u001b[1;32m--> 108\u001b[1;33m       \u001b[1;32mreturn\u001b[0m \u001b[0mmethod\u001b[0m\u001b[1;33m(\u001b[0m\u001b[0mself\u001b[0m\u001b[1;33m,\u001b[0m \u001b[1;33m*\u001b[0m\u001b[0margs\u001b[0m\u001b[1;33m,\u001b[0m \u001b[1;33m**\u001b[0m\u001b[0mkwargs\u001b[0m\u001b[1;33m)\u001b[0m\u001b[1;33m\u001b[0m\u001b[1;33m\u001b[0m\u001b[0m\n\u001b[0m\u001b[0;32m    109\u001b[0m \u001b[1;33m\u001b[0m\u001b[0m\n\u001b[0;32m    110\u001b[0m     \u001b[1;31m# Running inside `run_distribute_coordinator` already.\u001b[0m\u001b[1;33m\u001b[0m\u001b[1;33m\u001b[0m\u001b[1;33m\u001b[0m\u001b[0m\n",
      "\u001b[1;32mc:\\python38\\lib\\site-packages\\tensorflow\\python\\keras\\engine\\training.py\u001b[0m in \u001b[0;36mfit\u001b[1;34m(self, x, y, batch_size, epochs, verbose, callbacks, validation_split, validation_data, shuffle, class_weight, sample_weight, initial_epoch, steps_per_epoch, validation_steps, validation_batch_size, validation_freq, max_queue_size, workers, use_multiprocessing)\u001b[0m\n\u001b[0;32m   1096\u001b[0m                 batch_size=batch_size):\n\u001b[0;32m   1097\u001b[0m               \u001b[0mcallbacks\u001b[0m\u001b[1;33m.\u001b[0m\u001b[0mon_train_batch_begin\u001b[0m\u001b[1;33m(\u001b[0m\u001b[0mstep\u001b[0m\u001b[1;33m)\u001b[0m\u001b[1;33m\u001b[0m\u001b[1;33m\u001b[0m\u001b[0m\n\u001b[1;32m-> 1098\u001b[1;33m               \u001b[0mtmp_logs\u001b[0m \u001b[1;33m=\u001b[0m \u001b[0mtrain_function\u001b[0m\u001b[1;33m(\u001b[0m\u001b[0miterator\u001b[0m\u001b[1;33m)\u001b[0m\u001b[1;33m\u001b[0m\u001b[1;33m\u001b[0m\u001b[0m\n\u001b[0m\u001b[0;32m   1099\u001b[0m               \u001b[1;32mif\u001b[0m \u001b[0mdata_handler\u001b[0m\u001b[1;33m.\u001b[0m\u001b[0mshould_sync\u001b[0m\u001b[1;33m:\u001b[0m\u001b[1;33m\u001b[0m\u001b[1;33m\u001b[0m\u001b[0m\n\u001b[0;32m   1100\u001b[0m                 \u001b[0mcontext\u001b[0m\u001b[1;33m.\u001b[0m\u001b[0masync_wait\u001b[0m\u001b[1;33m(\u001b[0m\u001b[1;33m)\u001b[0m\u001b[1;33m\u001b[0m\u001b[1;33m\u001b[0m\u001b[0m\n",
      "\u001b[1;32mc:\\python38\\lib\\site-packages\\tensorflow\\python\\eager\\def_function.py\u001b[0m in \u001b[0;36m__call__\u001b[1;34m(self, *args, **kwds)\u001b[0m\n\u001b[0;32m    778\u001b[0m       \u001b[1;32melse\u001b[0m\u001b[1;33m:\u001b[0m\u001b[1;33m\u001b[0m\u001b[1;33m\u001b[0m\u001b[0m\n\u001b[0;32m    779\u001b[0m         \u001b[0mcompiler\u001b[0m \u001b[1;33m=\u001b[0m \u001b[1;34m\"nonXla\"\u001b[0m\u001b[1;33m\u001b[0m\u001b[1;33m\u001b[0m\u001b[0m\n\u001b[1;32m--> 780\u001b[1;33m         \u001b[0mresult\u001b[0m \u001b[1;33m=\u001b[0m \u001b[0mself\u001b[0m\u001b[1;33m.\u001b[0m\u001b[0m_call\u001b[0m\u001b[1;33m(\u001b[0m\u001b[1;33m*\u001b[0m\u001b[0margs\u001b[0m\u001b[1;33m,\u001b[0m \u001b[1;33m**\u001b[0m\u001b[0mkwds\u001b[0m\u001b[1;33m)\u001b[0m\u001b[1;33m\u001b[0m\u001b[1;33m\u001b[0m\u001b[0m\n\u001b[0m\u001b[0;32m    781\u001b[0m \u001b[1;33m\u001b[0m\u001b[0m\n\u001b[0;32m    782\u001b[0m       \u001b[0mnew_tracing_count\u001b[0m \u001b[1;33m=\u001b[0m \u001b[0mself\u001b[0m\u001b[1;33m.\u001b[0m\u001b[0m_get_tracing_count\u001b[0m\u001b[1;33m(\u001b[0m\u001b[1;33m)\u001b[0m\u001b[1;33m\u001b[0m\u001b[1;33m\u001b[0m\u001b[0m\n",
      "\u001b[1;32mc:\\python38\\lib\\site-packages\\tensorflow\\python\\eager\\def_function.py\u001b[0m in \u001b[0;36m_call\u001b[1;34m(self, *args, **kwds)\u001b[0m\n\u001b[0;32m    805\u001b[0m       \u001b[1;31m# In this case we have created variables on the first call, so we run the\u001b[0m\u001b[1;33m\u001b[0m\u001b[1;33m\u001b[0m\u001b[1;33m\u001b[0m\u001b[0m\n\u001b[0;32m    806\u001b[0m       \u001b[1;31m# defunned version which is guaranteed to never create variables.\u001b[0m\u001b[1;33m\u001b[0m\u001b[1;33m\u001b[0m\u001b[1;33m\u001b[0m\u001b[0m\n\u001b[1;32m--> 807\u001b[1;33m       \u001b[1;32mreturn\u001b[0m \u001b[0mself\u001b[0m\u001b[1;33m.\u001b[0m\u001b[0m_stateless_fn\u001b[0m\u001b[1;33m(\u001b[0m\u001b[1;33m*\u001b[0m\u001b[0margs\u001b[0m\u001b[1;33m,\u001b[0m \u001b[1;33m**\u001b[0m\u001b[0mkwds\u001b[0m\u001b[1;33m)\u001b[0m  \u001b[1;31m# pylint: disable=not-callable\u001b[0m\u001b[1;33m\u001b[0m\u001b[1;33m\u001b[0m\u001b[0m\n\u001b[0m\u001b[0;32m    808\u001b[0m     \u001b[1;32melif\u001b[0m \u001b[0mself\u001b[0m\u001b[1;33m.\u001b[0m\u001b[0m_stateful_fn\u001b[0m \u001b[1;32mis\u001b[0m \u001b[1;32mnot\u001b[0m \u001b[1;32mNone\u001b[0m\u001b[1;33m:\u001b[0m\u001b[1;33m\u001b[0m\u001b[1;33m\u001b[0m\u001b[0m\n\u001b[0;32m    809\u001b[0m       \u001b[1;31m# Release the lock early so that multiple threads can perform the call\u001b[0m\u001b[1;33m\u001b[0m\u001b[1;33m\u001b[0m\u001b[1;33m\u001b[0m\u001b[0m\n",
      "\u001b[1;32mc:\\python38\\lib\\site-packages\\tensorflow\\python\\eager\\function.py\u001b[0m in \u001b[0;36m__call__\u001b[1;34m(self, *args, **kwargs)\u001b[0m\n\u001b[0;32m   2827\u001b[0m     \u001b[1;32mwith\u001b[0m \u001b[0mself\u001b[0m\u001b[1;33m.\u001b[0m\u001b[0m_lock\u001b[0m\u001b[1;33m:\u001b[0m\u001b[1;33m\u001b[0m\u001b[1;33m\u001b[0m\u001b[0m\n\u001b[0;32m   2828\u001b[0m       \u001b[0mgraph_function\u001b[0m\u001b[1;33m,\u001b[0m \u001b[0margs\u001b[0m\u001b[1;33m,\u001b[0m \u001b[0mkwargs\u001b[0m \u001b[1;33m=\u001b[0m \u001b[0mself\u001b[0m\u001b[1;33m.\u001b[0m\u001b[0m_maybe_define_function\u001b[0m\u001b[1;33m(\u001b[0m\u001b[0margs\u001b[0m\u001b[1;33m,\u001b[0m \u001b[0mkwargs\u001b[0m\u001b[1;33m)\u001b[0m\u001b[1;33m\u001b[0m\u001b[1;33m\u001b[0m\u001b[0m\n\u001b[1;32m-> 2829\u001b[1;33m     \u001b[1;32mreturn\u001b[0m \u001b[0mgraph_function\u001b[0m\u001b[1;33m.\u001b[0m\u001b[0m_filtered_call\u001b[0m\u001b[1;33m(\u001b[0m\u001b[0margs\u001b[0m\u001b[1;33m,\u001b[0m \u001b[0mkwargs\u001b[0m\u001b[1;33m)\u001b[0m  \u001b[1;31m# pylint: disable=protected-access\u001b[0m\u001b[1;33m\u001b[0m\u001b[1;33m\u001b[0m\u001b[0m\n\u001b[0m\u001b[0;32m   2830\u001b[0m \u001b[1;33m\u001b[0m\u001b[0m\n\u001b[0;32m   2831\u001b[0m   \u001b[1;33m@\u001b[0m\u001b[0mproperty\u001b[0m\u001b[1;33m\u001b[0m\u001b[1;33m\u001b[0m\u001b[0m\n",
      "\u001b[1;32mc:\\python38\\lib\\site-packages\\tensorflow\\python\\eager\\function.py\u001b[0m in \u001b[0;36m_filtered_call\u001b[1;34m(self, args, kwargs, cancellation_manager)\u001b[0m\n\u001b[0;32m   1841\u001b[0m       \u001b[0;31m`\u001b[0m\u001b[0margs\u001b[0m\u001b[0;31m`\u001b[0m \u001b[1;32mand\u001b[0m\u001b[0;31m \u001b[0m\u001b[0;31m`\u001b[0m\u001b[0mkwargs\u001b[0m\u001b[0;31m`\u001b[0m\u001b[1;33m.\u001b[0m\u001b[1;33m\u001b[0m\u001b[1;33m\u001b[0m\u001b[0m\n\u001b[0;32m   1842\u001b[0m     \"\"\"\n\u001b[1;32m-> 1843\u001b[1;33m     return self._call_flat(\n\u001b[0m\u001b[0;32m   1844\u001b[0m         [t for t in nest.flatten((args, kwargs), expand_composites=True)\n\u001b[0;32m   1845\u001b[0m          if isinstance(t, (ops.Tensor,\n",
      "\u001b[1;32mc:\\python38\\lib\\site-packages\\tensorflow\\python\\eager\\function.py\u001b[0m in \u001b[0;36m_call_flat\u001b[1;34m(self, args, captured_inputs, cancellation_manager)\u001b[0m\n\u001b[0;32m   1921\u001b[0m         and executing_eagerly):\n\u001b[0;32m   1922\u001b[0m       \u001b[1;31m# No tape is watching; skip to running the function.\u001b[0m\u001b[1;33m\u001b[0m\u001b[1;33m\u001b[0m\u001b[1;33m\u001b[0m\u001b[0m\n\u001b[1;32m-> 1923\u001b[1;33m       return self._build_call_outputs(self._inference_function.call(\n\u001b[0m\u001b[0;32m   1924\u001b[0m           ctx, args, cancellation_manager=cancellation_manager))\n\u001b[0;32m   1925\u001b[0m     forward_backward = self._select_forward_and_backward_functions(\n",
      "\u001b[1;32mc:\\python38\\lib\\site-packages\\tensorflow\\python\\eager\\function.py\u001b[0m in \u001b[0;36mcall\u001b[1;34m(self, ctx, args, cancellation_manager)\u001b[0m\n\u001b[0;32m    543\u001b[0m       \u001b[1;32mwith\u001b[0m \u001b[0m_InterpolateFunctionError\u001b[0m\u001b[1;33m(\u001b[0m\u001b[0mself\u001b[0m\u001b[1;33m)\u001b[0m\u001b[1;33m:\u001b[0m\u001b[1;33m\u001b[0m\u001b[1;33m\u001b[0m\u001b[0m\n\u001b[0;32m    544\u001b[0m         \u001b[1;32mif\u001b[0m \u001b[0mcancellation_manager\u001b[0m \u001b[1;32mis\u001b[0m \u001b[1;32mNone\u001b[0m\u001b[1;33m:\u001b[0m\u001b[1;33m\u001b[0m\u001b[1;33m\u001b[0m\u001b[0m\n\u001b[1;32m--> 545\u001b[1;33m           outputs = execute.execute(\n\u001b[0m\u001b[0;32m    546\u001b[0m               \u001b[0mstr\u001b[0m\u001b[1;33m(\u001b[0m\u001b[0mself\u001b[0m\u001b[1;33m.\u001b[0m\u001b[0msignature\u001b[0m\u001b[1;33m.\u001b[0m\u001b[0mname\u001b[0m\u001b[1;33m)\u001b[0m\u001b[1;33m,\u001b[0m\u001b[1;33m\u001b[0m\u001b[1;33m\u001b[0m\u001b[0m\n\u001b[0;32m    547\u001b[0m               \u001b[0mnum_outputs\u001b[0m\u001b[1;33m=\u001b[0m\u001b[0mself\u001b[0m\u001b[1;33m.\u001b[0m\u001b[0m_num_outputs\u001b[0m\u001b[1;33m,\u001b[0m\u001b[1;33m\u001b[0m\u001b[1;33m\u001b[0m\u001b[0m\n",
      "\u001b[1;32mc:\\python38\\lib\\site-packages\\tensorflow\\python\\eager\\execute.py\u001b[0m in \u001b[0;36mquick_execute\u001b[1;34m(op_name, num_outputs, inputs, attrs, ctx, name)\u001b[0m\n\u001b[0;32m     57\u001b[0m   \u001b[1;32mtry\u001b[0m\u001b[1;33m:\u001b[0m\u001b[1;33m\u001b[0m\u001b[1;33m\u001b[0m\u001b[0m\n\u001b[0;32m     58\u001b[0m     \u001b[0mctx\u001b[0m\u001b[1;33m.\u001b[0m\u001b[0mensure_initialized\u001b[0m\u001b[1;33m(\u001b[0m\u001b[1;33m)\u001b[0m\u001b[1;33m\u001b[0m\u001b[1;33m\u001b[0m\u001b[0m\n\u001b[1;32m---> 59\u001b[1;33m     tensors = pywrap_tfe.TFE_Py_Execute(ctx._handle, device_name, op_name,\n\u001b[0m\u001b[0;32m     60\u001b[0m                                         inputs, attrs, num_outputs)\n\u001b[0;32m     61\u001b[0m   \u001b[1;32mexcept\u001b[0m \u001b[0mcore\u001b[0m\u001b[1;33m.\u001b[0m\u001b[0m_NotOkStatusException\u001b[0m \u001b[1;32mas\u001b[0m \u001b[0me\u001b[0m\u001b[1;33m:\u001b[0m\u001b[1;33m\u001b[0m\u001b[1;33m\u001b[0m\u001b[0m\n",
      "\u001b[1;31mKeyboardInterrupt\u001b[0m: "
     ]
    }
   ],
   "source": [
    "autoencoder.fit(x_train_noisy, x_train,\n",
    "                epochs=100,\n",
    "                batch_size=128,\n",
    "                shuffle=True,\n",
    "                validation_data=(x_test_noisy, x_test)\n",
    "               )"
   ]
  },
  {
   "cell_type": "code",
   "execution_count": null,
   "metadata": {},
   "outputs": [],
   "source": [
    "decoded_imgs = autoencoder.predict(x_test)\n",
    "\n",
    "n = 10\n",
    "\n",
    "plt.figure(figsize=(20, 4))\n",
    "for i in range(n):\n",
    "    # display original\n",
    "    ax = plt.subplot(2, n, i + 1)\n",
    "    plt.imshow(x_test_noisy[i].reshape(28, 28))\n",
    "    plt.gray()\n",
    "    ax.get_xaxis().set_visible(False)\n",
    "    ax.get_yaxis().set_visible(False)\n",
    "\n",
    "    # display reconstruction\n",
    "    ax = plt.subplot(2, n, i+1+n)\n",
    "    plt.imshow(decoded_imgs[i].reshape(28, 28))\n",
    "    plt.gray()\n",
    "    ax.get_xaxis().set_visible(False)\n",
    "    ax.get_yaxis().set_visible(False)\n",
    "plt.show()"
   ]
  },
  {
   "cell_type": "code",
   "execution_count": null,
   "metadata": {},
   "outputs": [],
   "source": []
  }
 ],
 "metadata": {
  "kernelspec": {
   "display_name": "Python 3",
   "language": "python",
   "name": "python3"
  },
  "language_info": {
   "codemirror_mode": {
    "name": "ipython",
    "version": 3
   },
   "file_extension": ".py",
   "mimetype": "text/x-python",
   "name": "python",
   "nbconvert_exporter": "python",
   "pygments_lexer": "ipython3",
   "version": "3.8.5"
  }
 },
 "nbformat": 4,
 "nbformat_minor": 4
}
