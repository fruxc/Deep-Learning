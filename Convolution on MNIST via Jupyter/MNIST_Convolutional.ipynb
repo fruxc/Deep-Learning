{
 "cells": [
  {
   "cell_type": "code",
   "execution_count": 18,
   "metadata": {},
   "outputs": [],
   "source": [
    "import numpy as np\n",
    "from keras.layers import Input, Dense\n",
    "from keras.models import Model\n",
    "from keras.datasets import mnist\n",
    "import matplotlib.pyplot as plt\n",
    "import tensorflow as tf"
   ]
  },
  {
   "cell_type": "code",
   "execution_count": 19,
   "metadata": {},
   "outputs": [],
   "source": [
    "# this is the size of our encoded representations\n",
    "encoding_dim = 32 # 32 floats -> compression of factor 24.5, assuming the input is 784 floats\n",
    " \n",
    "# this is our input placeholder\n",
    "input_img = Input(shape=(784,))\n",
    "\n",
    "# \"encoded\" is the encoded representation of the input\n",
    "encoded = Dense(encoding_dim, activation='relu')(input_img)\n",
    "\n",
    "# \"decoded\" is the lossy reconstruction of the input\n",
    "decoded = Dense(784, activation='relu')(encoded)\n",
    "\n",
    "# this model maps an input to its reconstruction\n",
    "autoencoder = Model(input_img, decoded)\n",
    "\n",
    "# this model maps an input to its encoded representation\n",
    "encoder = Model(input_img, encoded)\n",
    "\n",
    "# create a placeholder for an encoded (32-dimensional) input\n",
    "encoded_input = Input(shape=(encoding_dim,))\n",
    "\n",
    "# retrieve the last layer of the autoencoder model\n",
    "decoder_layer = autoencoder.layers[-1]\n",
    "\n",
    "# create the decoder model\n",
    "decoder = Model(encoded_input, decoder_layer(encoded_input))\n",
    "\n",
    "# configure our model to use a per-pixel binary crossentropy loss, and the Adadelta optimizer:\n",
    "autoencoder.compile(optimizer='adam', loss='binary_crossentropy')"
   ]
  },
  {
   "cell_type": "code",
   "execution_count": 20,
   "metadata": {},
   "outputs": [
    {
     "name": "stdout",
     "output_type": "stream",
     "text": [
      "(60000, 784)\n",
      "(10000, 784)\n"
     ]
    }
   ],
   "source": [
    "(x_train, _), (x_test, _) = mnist.load_data()\n",
    "# normalize all values between 0 and 1 and we will flatten the 28x28 images into vectors of size 784.\n",
    "x_train = x_train.astype('float32') / 255.\n",
    "x_test = x_test.astype('float32') / 255.\n",
    "\n",
    "x_train = tf.keras.utils.normalize(x_train, axis=1) ## Normalize dataset basically scaling data between 0 1s or -1.\n",
    "x_test = tf.keras.utils.normalize(x_test, axis=1) ## Same for the test data\n",
    "x_train = x_train.reshape((len(x_train), np.prod(x_train.shape[1:])))\n",
    "x_test = x_test.reshape((len(x_test), np.prod(x_test.shape[1:])))\n",
    "print(x_train.shape)\n",
    "print(x_test.shape)"
   ]
  },
  {
   "cell_type": "code",
   "execution_count": null,
   "metadata": {},
   "outputs": [
    {
     "name": "stdout",
     "output_type": "stream",
     "text": [
      "Epoch 1/100\n",
      "235/235 [==============================] - 1s 6ms/step - loss: 0.1941 - val_loss: 0.1633\n",
      "Epoch 2/100\n",
      "235/235 [==============================] - 1s 5ms/step - loss: 0.1590 - val_loss: 0.1521\n",
      "Epoch 3/100\n",
      "235/235 [==============================] - 1s 6ms/step - loss: 0.1512 - val_loss: 0.1502\n",
      "Epoch 4/100\n",
      "235/235 [==============================] - 1s 5ms/step - loss: 0.1490 - val_loss: 0.1469\n",
      "Epoch 5/100\n",
      "235/235 [==============================] - 1s 5ms/step - loss: 0.1469 - val_loss: 0.1478\n",
      "Epoch 6/100\n",
      "235/235 [==============================] - 1s 5ms/step - loss: 0.1467 - val_loss: 0.1508\n",
      "Epoch 7/100\n",
      "235/235 [==============================] - 1s 6ms/step - loss: 0.1456 - val_loss: 0.1434\n",
      "Epoch 8/100\n",
      "235/235 [==============================] - 1s 5ms/step - loss: 0.1456 - val_loss: 0.1433\n",
      "Epoch 9/100\n",
      "235/235 [==============================] - 1s 5ms/step - loss: 0.1440 - val_loss: 0.1428\n",
      "Epoch 10/100\n",
      "235/235 [==============================] - 1s 5ms/step - loss: 0.1427 - val_loss: 0.1401\n",
      "Epoch 11/100\n",
      "235/235 [==============================] - 1s 5ms/step - loss: 0.1428 - val_loss: 0.1408\n",
      "Epoch 12/100\n",
      "235/235 [==============================] - 1s 6ms/step - loss: 0.1413 - val_loss: 0.1432\n",
      "Epoch 13/100\n",
      "235/235 [==============================] - 1s 5ms/step - loss: 0.1416 - val_loss: 0.1476\n",
      "Epoch 14/100\n",
      "235/235 [==============================] - 2s 6ms/step - loss: 0.1428 - val_loss: 0.1399\n",
      "Epoch 15/100\n",
      "235/235 [==============================] - 1s 6ms/step - loss: 0.1384 - val_loss: 0.1371\n",
      "Epoch 16/100\n",
      " 11/235 [>.............................] - ETA: 1s - loss: 0.1375"
     ]
    }
   ],
   "source": [
    "autoencoder.fit(x_train, x_train,\n",
    "                epochs=100,\n",
    "                batch_size=256,\n",
    "                shuffle=True,\n",
    "                validation_data=(x_test, x_test))\n",
    "# encode and decode some digits\n",
    "# note that we take them from the *test* set\n",
    "encoded_img = encoder.predict(x_test)\n",
    "decoded_img = decoder.predict(encoded_img)"
   ]
  },
  {
   "cell_type": "code",
   "execution_count": null,
   "metadata": {},
   "outputs": [],
   "source": [
    "n = 10 # how many digits we will display\n",
    "plt.figure(figsize=(20, 5))\n",
    "for i in range(n): #display original\n",
    "    ax = plt.subplot(2, n, i + 1)\n",
    "    plt.imshow(x_test[i].reshape(28, 28))\n",
    "    plt.gray()\n",
    "    ax.get_xaxis().set_visible(False)\n",
    "    ax.get_yaxis().set_visible(False)\n",
    "    # display reconstruction\n",
    "    ax = plt.subplot(2, n, i + 1 + n)\n",
    "    plt.imshow(decoded_img[i].reshape(28, 28))\n",
    "    plt.gray()\n",
    "    ax.get_xaxis().set_visible(False)\n",
    "    ax.get_yaxis().set_visible(False)\n",
    "plt.show()"
   ]
  },
  {
   "cell_type": "code",
   "execution_count": null,
   "metadata": {},
   "outputs": [],
   "source": []
  }
 ],
 "metadata": {
  "kernelspec": {
   "display_name": "Python 3",
   "language": "python",
   "name": "python3"
  },
  "language_info": {
   "codemirror_mode": {
    "name": "ipython",
    "version": 3
   },
   "file_extension": ".py",
   "mimetype": "text/x-python",
   "name": "python",
   "nbconvert_exporter": "python",
   "pygments_lexer": "ipython3",
   "version": "3.8.5"
  }
 },
 "nbformat": 4,
 "nbformat_minor": 4
}
